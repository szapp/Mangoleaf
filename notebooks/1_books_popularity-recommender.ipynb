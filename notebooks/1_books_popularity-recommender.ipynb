{
 "cells": [
  {
   "cell_type": "markdown",
   "metadata": {},
   "source": [
    "# Popularity Recommender\n",
    "\n",
    "Using the books dataset, the function `popularity_recommender` returns the `n` most popular books.\n",
    "\n",
    "The popularity is determined by a minimum number of user ratings (50 for now).\n",
    "To provide diverse results, only one recommendation per author is provided. (This is mostly due to the Harry Potter and Lord of the Rings franchises dominating the popularity ratings.)"
   ]
  },
  {
   "cell_type": "code",
   "execution_count": 1,
   "metadata": {},
   "outputs": [],
   "source": [
    "import pandas as pd"
   ]
  },
  {
   "cell_type": "code",
   "execution_count": 3,
   "metadata": {},
   "outputs": [],
   "source": [
    "books = pd.read_csv(\"../data/books/clean/books.csv\", dtype=\"object\")\n",
    "ratings = pd.read_csv(\"../data/books/clean/ratings.csv\", dtype=\"object\")"
   ]
  },
  {
   "cell_type": "markdown",
   "metadata": {},
   "source": [
    "## Create popularity recommender"
   ]
  },
  {
   "cell_type": "code",
   "execution_count": 5,
   "metadata": {},
   "outputs": [],
   "source": [
    "# Create a minimalistic DataFrame containing the mean and count of ratings\n",
    "rating_count = ratings.drop(columns=\"User-ID\")\n",
    "rating_count = rating_count.groupby('ISBN')['Book-Rating'].agg(['mean', 'count']).reset_index()"
   ]
  },
  {
   "cell_type": "markdown",
   "metadata": {},
   "source": [
    "The main function is below."
   ]
  },
  {
   "cell_type": "code",
   "execution_count": 6,
   "metadata": {},
   "outputs": [],
   "source": [
    "def popularity_recommender(n):\n",
    "    \"\"\"\n",
    "    Recommends the n most popular books.\n",
    "\n",
    "    Parameters\n",
    "    ----------\n",
    "    n : integer\n",
    "        Number of books to recommend.\n",
    "\n",
    "    Returns\n",
    "    -------\n",
    "    pd.DataFrame\n",
    "        DataFrame with the top n most popular books.\n",
    "    \"\"\"\n",
    "    count_threshold = 50\n",
    "\n",
    "    # Get the most rated books above a rating count threshold \n",
    "    mask = rating_count[\"count\"] > count_threshold\n",
    "\n",
    "    # Get the best rated books sorted in descending order of their mean rating\n",
    "    top_rated = rating_count[mask].sort_values(\"mean\", ascending=False)\n",
    "\n",
    "    # Combine rating and book list\n",
    "    top_rated_books = top_rated.merge(books).drop(columns=[\"mean\", \"count\"])\n",
    "\n",
    "    # Ensure diverse results by only taking one book per author\n",
    "    top_rated_books = top_rated_books.drop_duplicates(subset=[\"Book-Author\"])\n",
    "\n",
    "    # Grab the top n books\n",
    "    top_rated_books = top_rated_books.head(n).reset_index()\n",
    "\n",
    "    # Selecting specific columns from the merged DataFrame to include in the final result\n",
    "    top_rated_books = top_rated_books[[\n",
    "        \"ISBN\",\n",
    "        \"Book-Title\",\n",
    "        \"Book-Author\",\n",
    "        \"Year-Of-Publication\",\n",
    "    ]]\n",
    "\n",
    "    return top_rated_books"
   ]
  },
  {
   "cell_type": "markdown",
   "metadata": {},
   "source": [
    "Example usage to obtain the top 10 most popular books in the dataset."
   ]
  },
  {
   "cell_type": "code",
   "execution_count": 7,
   "metadata": {},
   "outputs": [
    {
     "data": {
      "text/html": [
       "<div>\n",
       "<style scoped>\n",
       "    .dataframe tbody tr th:only-of-type {\n",
       "        vertical-align: middle;\n",
       "    }\n",
       "\n",
       "    .dataframe tbody tr th {\n",
       "        vertical-align: top;\n",
       "    }\n",
       "\n",
       "    .dataframe thead th {\n",
       "        text-align: right;\n",
       "    }\n",
       "</style>\n",
       "<table border=\"1\" class=\"dataframe\">\n",
       "  <thead>\n",
       "    <tr style=\"text-align: right;\">\n",
       "      <th></th>\n",
       "      <th>ISBN</th>\n",
       "      <th>Book-Title</th>\n",
       "      <th>Book-Author</th>\n",
       "      <th>Year-Of-Publication</th>\n",
       "    </tr>\n",
       "  </thead>\n",
       "  <tbody>\n",
       "    <tr>\n",
       "      <th>0</th>\n",
       "      <td>0345339738</td>\n",
       "      <td>The Return of the King (The Lord of the Rings,...</td>\n",
       "      <td>J.R.R. TOLKIEN</td>\n",
       "      <td>1986</td>\n",
       "    </tr>\n",
       "    <tr>\n",
       "      <th>1</th>\n",
       "      <td>0439139597</td>\n",
       "      <td>Harry Potter and the Goblet of Fire (Book 4)</td>\n",
       "      <td>J. K. Rowling</td>\n",
       "      <td>2000</td>\n",
       "    </tr>\n",
       "    <tr>\n",
       "      <th>2</th>\n",
       "      <td>0446310786</td>\n",
       "      <td>To Kill a Mockingbird</td>\n",
       "      <td>Harper Lee</td>\n",
       "      <td>1988</td>\n",
       "    </tr>\n",
       "    <tr>\n",
       "      <th>3</th>\n",
       "      <td>0441172717</td>\n",
       "      <td>Dune (Remembering Tomorrow)</td>\n",
       "      <td>Frank Herbert</td>\n",
       "      <td>1996</td>\n",
       "    </tr>\n",
       "    <tr>\n",
       "      <th>4</th>\n",
       "      <td>0451524934</td>\n",
       "      <td>1984</td>\n",
       "      <td>George Orwell</td>\n",
       "      <td>1990</td>\n",
       "    </tr>\n",
       "    <tr>\n",
       "      <th>5</th>\n",
       "      <td>0812550706</td>\n",
       "      <td>Ender's Game (Ender Wiggins Saga (Paperback))</td>\n",
       "      <td>Orson Scott Card</td>\n",
       "      <td>1994</td>\n",
       "    </tr>\n",
       "    <tr>\n",
       "      <th>6</th>\n",
       "      <td>0440498058</td>\n",
       "      <td>A Wrinkle In Time</td>\n",
       "      <td>MADELEINE L'ENGLE</td>\n",
       "      <td>1998</td>\n",
       "    </tr>\n",
       "    <tr>\n",
       "      <th>7</th>\n",
       "      <td>0553296981</td>\n",
       "      <td>Anne Frank: The Diary of a Young Girl</td>\n",
       "      <td>ANNE FRANK</td>\n",
       "      <td>1993</td>\n",
       "    </tr>\n",
       "    <tr>\n",
       "      <th>8</th>\n",
       "      <td>0345348036</td>\n",
       "      <td>The Princess Bride: S Morgenstern's Classic Ta...</td>\n",
       "      <td>WILLIAM GOLDMAN</td>\n",
       "      <td>1987</td>\n",
       "    </tr>\n",
       "    <tr>\n",
       "      <th>9</th>\n",
       "      <td>0345342968</td>\n",
       "      <td>Fahrenheit 451</td>\n",
       "      <td>RAY BRADBURY</td>\n",
       "      <td>1987</td>\n",
       "    </tr>\n",
       "  </tbody>\n",
       "</table>\n",
       "</div>"
      ],
      "text/plain": [
       "         ISBN                                         Book-Title  \\\n",
       "0  0345339738  The Return of the King (The Lord of the Rings,...   \n",
       "1  0439139597       Harry Potter and the Goblet of Fire (Book 4)   \n",
       "2  0446310786                              To Kill a Mockingbird   \n",
       "3  0441172717                        Dune (Remembering Tomorrow)   \n",
       "4  0451524934                                               1984   \n",
       "5  0812550706      Ender's Game (Ender Wiggins Saga (Paperback))   \n",
       "6  0440498058                                  A Wrinkle In Time   \n",
       "7  0553296981              Anne Frank: The Diary of a Young Girl   \n",
       "8  0345348036  The Princess Bride: S Morgenstern's Classic Ta...   \n",
       "9  0345342968                                     Fahrenheit 451   \n",
       "\n",
       "         Book-Author  Year-Of-Publication  \n",
       "0     J.R.R. TOLKIEN                 1986  \n",
       "1      J. K. Rowling                 2000  \n",
       "2         Harper Lee                 1988  \n",
       "3      Frank Herbert                 1996  \n",
       "4      George Orwell                 1990  \n",
       "5   Orson Scott Card                 1994  \n",
       "6  MADELEINE L'ENGLE                 1998  \n",
       "7         ANNE FRANK                 1993  \n",
       "8    WILLIAM GOLDMAN                 1987  \n",
       "9       RAY BRADBURY                 1987  "
      ]
     },
     "execution_count": 7,
     "metadata": {},
     "output_type": "execute_result"
    }
   ],
   "source": [
    "popularity_recommender(10)"
   ]
  }
 ],
 "metadata": {
  "kernelspec": {
   "display_name": "wbs",
   "language": "python",
   "name": "python3"
  },
  "language_info": {
   "codemirror_mode": {
    "name": "ipython",
    "version": 3
   },
   "file_extension": ".py",
   "mimetype": "text/x-python",
   "name": "python",
   "nbconvert_exporter": "python",
   "pygments_lexer": "ipython3",
   "version": "3.12.4"
  }
 },
 "nbformat": 4,
 "nbformat_minor": 2
}
