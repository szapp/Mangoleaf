{
 "cells": [
  {
   "cell_type": "markdown",
   "metadata": {},
   "source": [
    "# Item-Based Recommender\n",
    "\n",
    "Using the book dataset, the function `item_based_recommender` returns the `n` most similar books to the `isnb`.\n",
    "\n",
    "The cosine similarity is applied to all book pairs in which both books have been rated by at least 5 users."
   ]
  },
  {
   "cell_type": "code",
   "execution_count": 15,
   "metadata": {},
   "outputs": [],
   "source": [
    "import pandas as pd\n",
    "from sklearn.metrics.pairwise import cosine_similarity"
   ]
  },
  {
   "cell_type": "code",
   "execution_count": null,
   "metadata": {},
   "outputs": [],
   "source": [
    "books = pd.read_csv(\"../data/books/clean/books.csv\", dtype=\"object\")\n",
    "ratings = pd.read_csv(\"../data/books/clean/ratings.csv\", dtype=\"object\")"
   ]
  },
  {
   "cell_type": "markdown",
   "metadata": {},
   "source": [
    "## Create item-based recommender"
   ]
  },
  {
   "cell_type": "code",
   "execution_count": 19,
   "metadata": {},
   "outputs": [],
   "source": [
    "# Create a user-item matrix\n",
    "user_item_matrix = pd.pivot_table(\n",
    "    data=ratings, values=\"Book-Rating\", index=\"User-ID\", columns=\"ISBN\", fill_value=0\n",
    ")\n",
    "\n",
    "# Compute the cosine similarity between the books\n",
    "items_cosines_matrix = pd.DataFrame(\n",
    "    cosine_similarity(user_item_matrix.T), columns=user_item_matrix.columns,\n",
    "    index=user_item_matrix.columns\n",
    ")"
   ]
  },
  {
   "cell_type": "markdown",
   "metadata": {},
   "source": [
    "The main function is below."
   ]
  },
  {
   "cell_type": "code",
   "execution_count": 21,
   "metadata": {},
   "outputs": [],
   "source": [
    "def item_based_recommender(isbn, n):\n",
    "    \"\"\"\n",
    "    Recommends the n most similar books for a giving book\n",
    "\n",
    "    Parameters\n",
    "    ----------\n",
    "    isbn : str\n",
    "        ISBN of the book to recommend similar books for\n",
    "\n",
    "    n : integer\n",
    "        Number of books to recommend\n",
    "\n",
    "    Returns\n",
    "    -------\n",
    "    pd.DataFrame\n",
    "        DataFrame with the top n most similar books\n",
    "    \"\"\"\n",
    "    # Create a DataFrame using the values from 'items_cosines_matrix' for the requested book\n",
    "    target_cosines_df = pd.DataFrame(items_cosines_matrix[isbn])\n",
    "\n",
    "    # Rename the column 'isbn' to 'target_cosine'\n",
    "    target_cosines_df = target_cosines_df.rename(columns={isbn: 'target_cosine'})\n",
    "\n",
    "    # Remove the row with the index 'isbn'\n",
    "    target_cosines_df = target_cosines_df[target_cosines_df.index != isbn]\n",
    "\n",
    "    # Sort the 'target_cosines_df' by the column 'target_cosine' column in descending order\n",
    "    target_cosines_df = target_cosines_df.sort_values(by=\"target_cosine\", ascending=False)\n",
    "\n",
    "    # Find out the number of users rated both the target book and the other book\n",
    "    no_of_users_rated_both_books = [sum((user_item_matrix[isbn] > 0) &\n",
    "                                        (user_item_matrix[other_isbn] > 0))\n",
    "                                    for other_isbn in target_cosines_df.index]\n",
    "\n",
    "    # Create a column for the number of users who rated the target book and the other book\n",
    "    target_cosines_df['users_who_rated_both_books'] = no_of_users_rated_both_books\n",
    "\n",
    "    # Remove recommendations that have less than 10 users who rated both books\n",
    "    target_cosines_df = target_cosines_df[target_cosines_df[\"users_who_rated_both_books\"] > 5]\n",
    "\n",
    "    # Combine with the titles and authors\n",
    "    target_top_cosine = target_cosines_df.head(n).reset_index().merge(books, how='left')\n",
    "\n",
    "    # Selecting specific columns from the merged DataFrame to include in the final result\n",
    "    target_top_cosine = target_top_cosine[[\n",
    "        \"ISBN\",\n",
    "        \"Book-Title\",\n",
    "        \"Book-Author\",\n",
    "        \"Year-Of-Publication\",\n",
    "    ]]\n",
    "\n",
    "    return target_top_cosine"
   ]
  },
  {
   "cell_type": "markdown",
   "metadata": {},
   "source": [
    "Example usage to obtain the top 10 most similar books in the dataset."
   ]
  },
  {
   "cell_type": "code",
   "execution_count": 22,
   "metadata": {},
   "outputs": [
    {
     "data": {
      "text/html": [
       "<div>\n",
       "<style scoped>\n",
       "    .dataframe tbody tr th:only-of-type {\n",
       "        vertical-align: middle;\n",
       "    }\n",
       "\n",
       "    .dataframe tbody tr th {\n",
       "        vertical-align: top;\n",
       "    }\n",
       "\n",
       "    .dataframe thead th {\n",
       "        text-align: right;\n",
       "    }\n",
       "</style>\n",
       "<table border=\"1\" class=\"dataframe\">\n",
       "  <thead>\n",
       "    <tr style=\"text-align: right;\">\n",
       "      <th></th>\n",
       "      <th>ISBN</th>\n",
       "      <th>Book-Title</th>\n",
       "      <th>Book-Author</th>\n",
       "      <th>Year-Of-Publication</th>\n",
       "    </tr>\n",
       "  </thead>\n",
       "  <tbody>\n",
       "    <tr>\n",
       "      <th>0</th>\n",
       "      <td>059035342X</td>\n",
       "      <td>Harry Potter and the Sorcerer's Stone (Harry P...</td>\n",
       "      <td>J. K. Rowling</td>\n",
       "      <td>1999</td>\n",
       "    </tr>\n",
       "    <tr>\n",
       "      <th>1</th>\n",
       "      <td>043935806X</td>\n",
       "      <td>Harry Potter and the Order of the Phoenix (Boo...</td>\n",
       "      <td>J. K. Rowling</td>\n",
       "      <td>2003</td>\n",
       "    </tr>\n",
       "    <tr>\n",
       "      <th>2</th>\n",
       "      <td>0439139597</td>\n",
       "      <td>Harry Potter and the Goblet of Fire (Book 4)</td>\n",
       "      <td>J. K. Rowling</td>\n",
       "      <td>2000</td>\n",
       "    </tr>\n",
       "    <tr>\n",
       "      <th>3</th>\n",
       "      <td>0439136350</td>\n",
       "      <td>Harry Potter and the Prisoner of Azkaban (Book 3)</td>\n",
       "      <td>J. K. Rowling</td>\n",
       "      <td>1999</td>\n",
       "    </tr>\n",
       "    <tr>\n",
       "      <th>4</th>\n",
       "      <td>0064400557</td>\n",
       "      <td>Charlotte's Web (Trophy Newbery)</td>\n",
       "      <td>E. B. White</td>\n",
       "      <td>1974</td>\n",
       "    </tr>\n",
       "    <tr>\n",
       "      <th>5</th>\n",
       "      <td>0553284789</td>\n",
       "      <td>F Is for Fugitive (Kinsey Millhone Mysteries (...</td>\n",
       "      <td>Sue Grafton</td>\n",
       "      <td>1990</td>\n",
       "    </tr>\n",
       "    <tr>\n",
       "      <th>6</th>\n",
       "      <td>0345339703</td>\n",
       "      <td>The Fellowship of the Ring (The Lord of the Ri...</td>\n",
       "      <td>J.R.R. TOLKIEN</td>\n",
       "      <td>1986</td>\n",
       "    </tr>\n",
       "    <tr>\n",
       "      <th>7</th>\n",
       "      <td>0060928336</td>\n",
       "      <td>Divine Secrets of the Ya-Ya Sisterhood: A Novel</td>\n",
       "      <td>Rebecca Wells</td>\n",
       "      <td>1997</td>\n",
       "    </tr>\n",
       "    <tr>\n",
       "      <th>8</th>\n",
       "      <td>0842329129</td>\n",
       "      <td>Left Behind: A Novel of the Earth's Last Days ...</td>\n",
       "      <td>Tim Lahaye</td>\n",
       "      <td>1996</td>\n",
       "    </tr>\n",
       "    <tr>\n",
       "      <th>9</th>\n",
       "      <td>0553280341</td>\n",
       "      <td>B Is for Burglar (Kinsey Millhone Mysteries (P...</td>\n",
       "      <td>Sue Grafton</td>\n",
       "      <td>1986</td>\n",
       "    </tr>\n",
       "  </tbody>\n",
       "</table>\n",
       "</div>"
      ],
      "text/plain": [
       "         ISBN                                         Book-Title  \\\n",
       "0  059035342X  Harry Potter and the Sorcerer's Stone (Harry P...   \n",
       "1  043935806X  Harry Potter and the Order of the Phoenix (Boo...   \n",
       "2  0439139597       Harry Potter and the Goblet of Fire (Book 4)   \n",
       "3  0439136350  Harry Potter and the Prisoner of Azkaban (Book 3)   \n",
       "4  0064400557                   Charlotte's Web (Trophy Newbery)   \n",
       "5  0553284789  F Is for Fugitive (Kinsey Millhone Mysteries (...   \n",
       "6  0345339703  The Fellowship of the Ring (The Lord of the Ri...   \n",
       "7  0060928336    Divine Secrets of the Ya-Ya Sisterhood: A Novel   \n",
       "8  0842329129  Left Behind: A Novel of the Earth's Last Days ...   \n",
       "9  0553280341  B Is for Burglar (Kinsey Millhone Mysteries (P...   \n",
       "\n",
       "      Book-Author  Year-Of-Publication  \n",
       "0   J. K. Rowling                 1999  \n",
       "1   J. K. Rowling                 2003  \n",
       "2   J. K. Rowling                 2000  \n",
       "3   J. K. Rowling                 1999  \n",
       "4     E. B. White                 1974  \n",
       "5     Sue Grafton                 1990  \n",
       "6  J.R.R. TOLKIEN                 1986  \n",
       "7   Rebecca Wells                 1997  \n",
       "8      Tim Lahaye                 1996  \n",
       "9     Sue Grafton                 1986  "
      ]
     },
     "execution_count": 22,
     "metadata": {},
     "output_type": "execute_result"
    }
   ],
   "source": [
    "harry_potter_book2_isbn = \"0439064872\"\n",
    "\n",
    "item_based_recommender(harry_potter_book2_isbn, 10)"
   ]
  }
 ],
 "metadata": {
  "kernelspec": {
   "display_name": "wbs",
   "language": "python",
   "name": "python3"
  },
  "language_info": {
   "codemirror_mode": {
    "name": "ipython",
    "version": 3
   },
   "file_extension": ".py",
   "mimetype": "text/x-python",
   "name": "python",
   "nbconvert_exporter": "python",
   "pygments_lexer": "ipython3",
   "version": "3.12.3"
  }
 },
 "nbformat": 4,
 "nbformat_minor": 2
}
